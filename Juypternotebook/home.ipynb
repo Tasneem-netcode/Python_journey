{
 "cells": [
  {
   "cell_type": "code",
   "execution_count": 1,
   "id": "9d758c2d-9dd2-4c3d-9c0f-84125c324c09",
   "metadata": {},
   "outputs": [
    {
     "name": "stdout",
     "output_type": "stream",
     "text": [
      "Hello juypterNB\n"
     ]
    }
   ],
   "source": [
    "print(\"Hello juypterNB\")"
   ]
  },
  {
   "cell_type": "code",
   "execution_count": null,
   "id": "a51a67ee-bb58-42ea-8f8c-7e79d38b2c24",
   "metadata": {},
   "outputs": [],
   "source": []
  }
 ],
 "metadata": {
  "kernelspec": {
   "display_name": "Python 3 (ipykernel)",
   "language": "python",
   "name": "python3"
  },
  "language_info": {
   "codemirror_mode": {
    "name": "ipython",
    "version": 3
   },
   "file_extension": ".py",
   "mimetype": "text/x-python",
   "name": "python",
   "nbconvert_exporter": "python",
   "pygments_lexer": "ipython3",
   "version": "3.13.1"
  }
 },
 "nbformat": 4,
 "nbformat_minor": 5
}
