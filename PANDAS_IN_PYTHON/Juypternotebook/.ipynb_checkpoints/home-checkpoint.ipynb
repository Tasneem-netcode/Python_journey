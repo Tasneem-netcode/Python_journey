{
 "cells": [
  {
   "cell_type": "code",
   "execution_count": 1,
   "id": "9d758c2d-9dd2-4c3d-9c0f-84125c324c09",
   "metadata": {},
   "outputs": [
    {
     "name": "stdout",
     "output_type": "stream",
     "text": [
      "Hello juypterNB\n"
     ]
    }
   ],
   "source": [
    "print(\"Hello juypterNB\")"
   ]
  },
  {
   "cell_type": "code",
   "execution_count": null,
   "id": "5a05694d-854a-4ce2-a470-b6c155702e53",
   "metadata": {},
   "outputs": [],
   "source": []
  }
 ],
 "metadata": {
  "kernelspec": {
   "display_name": "Python 3 (ipykernel)",
   "language": "python",
   "name": "python3"
  },
  "language_info": {
   "codemirror_mode": {
    "name": "ipython",
    "version": 3
   },
   "file_extension": ".py",
   "mimetype": "text/x-python",
   "name": "python",
   "nbconvert_exporter": "python",
   "pygments_lexer": "ipython3",
   "version": "3.13.1"
  }
 },
 "nbformat": 4,
 "nbformat_minor": 5
}
